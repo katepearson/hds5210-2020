{
 "cells": [
  {
   "cell_type": "markdown",
   "metadata": {
    "nbgrader": {
     "grade": false,
     "grade_id": "intro",
     "locked": true,
     "schema_version": 1,
     "solution": false
    }
   },
   "source": [
    "# PART 1 - Pivoting for Fun and Profit\n",
    "\n",
    "In this exercise, we're going to continue working with data about condemned buildings in St. Louis.  This data set is in `/data/condemn.txt` in CSV format."
   ]
  },
  {
   "cell_type": "markdown",
   "metadata": {
    "nbgrader": {
     "grade": false,
     "grade_id": "q1-intro",
     "locked": true,
     "schema_version": 1,
     "solution": false
    }
   },
   "source": [
    "## STEP 1: Load and Filter data\n",
    "\n",
    "For this analysis, we want to look only at a relevent range of years and only years that are in teh past.  So, let's first take a look at the data between 1986 and 2014 (inclusive of those dates).\n",
    "\n",
    "At the end of this step, you should have a data frame loaded from the condemnations file and filtered down to only the data between 1986 and 2014.  Put that into a dataframe named `condemnations`\n",
    "\n",
    "**Some helpful notes:**\n",
    "* Use the columns `InspectDate` to filter this date range"
   ]
  },
  {
   "cell_type": "code",
   "execution_count": 35,
   "metadata": {
    "nbgrader": {
     "grade": false,
     "grade_id": "q1-solution",
     "locked": false,
     "schema_version": 1,
     "solution": true
    }
   },
   "outputs": [],
   "source": [
    "%matplotlib inline\n",
    "import pandas as pd\n",
    "data = pd.read_csv('/data/condemn.txt', low_memory=False)"
   ]
  },
  {
   "cell_type": "code",
   "execution_count": 36,
   "metadata": {
    "nbgrader": {
     "grade": false,
     "grade_id": "q1-solution",
     "locked": false,
     "schema_version": 1,
     "solution": true
    }
   },
   "outputs": [
    {
     "data": {
      "text/plain": [
       "Index(['AcctNum', 'PrclErr', 'AddrAdjusted', 'CityBlock', 'Parcel',\n",
       "       'OwnerCode', 'Handle', 'Parcel9', 'AddrNum', 'AddrSuf', 'StDir',\n",
       "       'StName', 'StType', 'InspectDate', 'InspectType', 'CondLetterSent',\n",
       "       'Status', 'OwnerCompany', 'OwnerName', 'OwnerAddr', 'OwnerCity',\n",
       "       'OwnerState', 'OwnerZIP', 'GeoCityBLockPart', 'Ward00', 'Precinct02',\n",
       "       'Nbrhd', 'CDADist', 'CDASubDist', 'PoliceDist', 'CensBlock00',\n",
       "       'AsrNbrhd', 'ImpactCode', 'NLC', 'Parity', 'Inspector', 'Images',\n",
       "       'FirstDate', 'LastDate', 'UpDateGeo'],\n",
       "      dtype='object')"
      ]
     },
     "execution_count": 36,
     "metadata": {},
     "output_type": "execute_result"
    }
   ],
   "source": [
    "data.columns"
   ]
  },
  {
   "cell_type": "code",
   "execution_count": 37,
   "metadata": {
    "nbgrader": {
     "grade": false,
     "grade_id": "q1-solution",
     "locked": false,
     "schema_version": 1,
     "solution": true
    }
   },
   "outputs": [
    {
     "data": {
      "text/html": [
       "<div>\n",
       "<style scoped>\n",
       "    .dataframe tbody tr th:only-of-type {\n",
       "        vertical-align: middle;\n",
       "    }\n",
       "\n",
       "    .dataframe tbody tr th {\n",
       "        vertical-align: top;\n",
       "    }\n",
       "\n",
       "    .dataframe thead th {\n",
       "        text-align: right;\n",
       "    }\n",
       "</style>\n",
       "<table border=\"1\" class=\"dataframe\">\n",
       "  <thead>\n",
       "    <tr style=\"text-align: right;\">\n",
       "      <th></th>\n",
       "      <th>AcctNum</th>\n",
       "      <th>PrclErr</th>\n",
       "      <th>AddrAdjusted</th>\n",
       "      <th>CityBlock</th>\n",
       "      <th>Parcel</th>\n",
       "      <th>OwnerCode</th>\n",
       "      <th>Handle</th>\n",
       "      <th>Parcel9</th>\n",
       "      <th>AddrNum</th>\n",
       "      <th>AddrSuf</th>\n",
       "      <th>...</th>\n",
       "      <th>CensBlock00</th>\n",
       "      <th>AsrNbrhd</th>\n",
       "      <th>ImpactCode</th>\n",
       "      <th>NLC</th>\n",
       "      <th>Parity</th>\n",
       "      <th>Inspector</th>\n",
       "      <th>Images</th>\n",
       "      <th>FirstDate</th>\n",
       "      <th>LastDate</th>\n",
       "      <th>UpDateGeo</th>\n",
       "    </tr>\n",
       "  </thead>\n",
       "  <tbody>\n",
       "    <tr>\n",
       "      <th>0</th>\n",
       "      <td>1.0</td>\n",
       "      <td>0.0</td>\n",
       "      <td>False</td>\n",
       "      <td>3652.00</td>\n",
       "      <td>341.0</td>\n",
       "      <td>1.0</td>\n",
       "      <td>1.365200e+10</td>\n",
       "      <td>365200341.0</td>\n",
       "      <td>4049</td>\n",
       "      <td></td>\n",
       "      <td>...</td>\n",
       "      <td>1114.4006</td>\n",
       "      <td>309.0</td>\n",
       "      <td>0.0</td>\n",
       "      <td>123.0</td>\n",
       "      <td>O</td>\n",
       "      <td>NaN</td>\n",
       "      <td>NaN</td>\n",
       "      <td>1987-08-07 00:00:00</td>\n",
       "      <td>2019-01-04 00:00:00</td>\n",
       "      <td>NaN</td>\n",
       "    </tr>\n",
       "    <tr>\n",
       "      <th>1</th>\n",
       "      <td>2.0</td>\n",
       "      <td>0.0</td>\n",
       "      <td>False</td>\n",
       "      <td>666.00</td>\n",
       "      <td>80.0</td>\n",
       "      <td>0.0</td>\n",
       "      <td>1.066600e+10</td>\n",
       "      <td>66600080.0</td>\n",
       "      <td>906</td>\n",
       "      <td></td>\n",
       "      <td>...</td>\n",
       "      <td>1234.2003</td>\n",
       "      <td>248.0</td>\n",
       "      <td>0.0</td>\n",
       "      <td>104.0</td>\n",
       "      <td>E</td>\n",
       "      <td>NaN</td>\n",
       "      <td>NaN</td>\n",
       "      <td>1988-06-28 00:00:00</td>\n",
       "      <td>2019-01-04 00:00:00</td>\n",
       "      <td>NaN</td>\n",
       "    </tr>\n",
       "    <tr>\n",
       "      <th>2</th>\n",
       "      <td>3.0</td>\n",
       "      <td>0.0</td>\n",
       "      <td>False</td>\n",
       "      <td>3913.01</td>\n",
       "      <td>120.0</td>\n",
       "      <td>1.0</td>\n",
       "      <td>1.391301e+10</td>\n",
       "      <td>391301120.0</td>\n",
       "      <td>4218</td>\n",
       "      <td></td>\n",
       "      <td>...</td>\n",
       "      <td>1191.1004</td>\n",
       "      <td>230.0</td>\n",
       "      <td>0.0</td>\n",
       "      <td>210.0</td>\n",
       "      <td>E</td>\n",
       "      <td>NaN</td>\n",
       "      <td>NaN</td>\n",
       "      <td>1990-08-28 00:00:00</td>\n",
       "      <td>2019-01-04 00:00:00</td>\n",
       "      <td>NaN</td>\n",
       "    </tr>\n",
       "    <tr>\n",
       "      <th>3</th>\n",
       "      <td>4.0</td>\n",
       "      <td>2.0</td>\n",
       "      <td>False</td>\n",
       "      <td>3744.00</td>\n",
       "      <td>145.0</td>\n",
       "      <td>0.0</td>\n",
       "      <td>1.374400e+10</td>\n",
       "      <td>374400145.0</td>\n",
       "      <td>4145</td>\n",
       "      <td></td>\n",
       "      <td>...</td>\n",
       "      <td>1111.4000</td>\n",
       "      <td>231.0</td>\n",
       "      <td>0.0</td>\n",
       "      <td>92.0</td>\n",
       "      <td>O</td>\n",
       "      <td>NaN</td>\n",
       "      <td>NaN</td>\n",
       "      <td>1990-06-12 00:00:00</td>\n",
       "      <td>2019-01-04 00:00:00</td>\n",
       "      <td>NaN</td>\n",
       "    </tr>\n",
       "    <tr>\n",
       "      <th>4</th>\n",
       "      <td>5.0</td>\n",
       "      <td>0.0</td>\n",
       "      <td>False</td>\n",
       "      <td>1103.00</td>\n",
       "      <td>30.0</td>\n",
       "      <td>0.0</td>\n",
       "      <td>1.110300e+10</td>\n",
       "      <td>110300030.0</td>\n",
       "      <td>1936</td>\n",
       "      <td></td>\n",
       "      <td>...</td>\n",
       "      <td>1266.5001</td>\n",
       "      <td>318.0</td>\n",
       "      <td>0.0</td>\n",
       "      <td>5.0</td>\n",
       "      <td>E</td>\n",
       "      <td>NaN</td>\n",
       "      <td>NaN</td>\n",
       "      <td>2006-12-21 00:00:00</td>\n",
       "      <td>2019-01-04 00:00:00</td>\n",
       "      <td>NaN</td>\n",
       "    </tr>\n",
       "  </tbody>\n",
       "</table>\n",
       "<p>5 rows × 40 columns</p>\n",
       "</div>"
      ],
      "text/plain": [
       "   AcctNum  PrclErr AddrAdjusted  CityBlock  Parcel  OwnerCode        Handle  \\\n",
       "0      1.0      0.0        False    3652.00   341.0        1.0  1.365200e+10   \n",
       "1      2.0      0.0        False     666.00    80.0        0.0  1.066600e+10   \n",
       "2      3.0      0.0        False    3913.01   120.0        1.0  1.391301e+10   \n",
       "3      4.0      2.0        False    3744.00   145.0        0.0  1.374400e+10   \n",
       "4      5.0      0.0        False    1103.00    30.0        0.0  1.110300e+10   \n",
       "\n",
       "       Parcel9 AddrNum AddrSuf  ... CensBlock00 AsrNbrhd ImpactCode    NLC  \\\n",
       "0  365200341.0    4049          ...   1114.4006    309.0        0.0  123.0   \n",
       "1   66600080.0     906          ...   1234.2003    248.0        0.0  104.0   \n",
       "2  391301120.0    4218          ...   1191.1004    230.0        0.0  210.0   \n",
       "3  374400145.0    4145          ...   1111.4000    231.0        0.0   92.0   \n",
       "4  110300030.0    1936          ...   1266.5001    318.0        0.0    5.0   \n",
       "\n",
       "  Parity Inspector Images            FirstDate             LastDate UpDateGeo  \n",
       "0      O       NaN    NaN  1987-08-07 00:00:00  2019-01-04 00:00:00       NaN  \n",
       "1      E       NaN    NaN  1988-06-28 00:00:00  2019-01-04 00:00:00       NaN  \n",
       "2      E       NaN    NaN  1990-08-28 00:00:00  2019-01-04 00:00:00       NaN  \n",
       "3      O       NaN    NaN  1990-06-12 00:00:00  2019-01-04 00:00:00       NaN  \n",
       "4      E       NaN    NaN  2006-12-21 00:00:00  2019-01-04 00:00:00       NaN  \n",
       "\n",
       "[5 rows x 40 columns]"
      ]
     },
     "execution_count": 37,
     "metadata": {},
     "output_type": "execute_result"
    }
   ],
   "source": [
    "data.head()"
   ]
  },
  {
   "cell_type": "code",
   "execution_count": 73,
   "metadata": {
    "nbgrader": {
     "grade": false,
     "grade_id": "q1-solution",
     "locked": false,
     "schema_version": 1,
     "solution": true
    }
   },
   "outputs": [],
   "source": [
    "condemns = (data['InspectDate'] >= '1986-01-01') & (data['InspectDate'] <= '2014-12-31')"
   ]
  },
  {
   "cell_type": "code",
   "execution_count": 87,
   "metadata": {
    "nbgrader": {
     "grade": false,
     "grade_id": "q1-solution",
     "locked": false,
     "schema_version": 1,
     "solution": true
    }
   },
   "outputs": [],
   "source": [
    "condemnations = data.loc[condemns]"
   ]
  },
  {
   "cell_type": "code",
   "execution_count": 88,
   "metadata": {
    "nbgrader": {
     "grade": true,
     "grade_id": "q1-tests",
     "locked": true,
     "points": 6,
     "schema_version": 1,
     "solution": false
    }
   },
   "outputs": [],
   "source": [
    "assert(condemnations.shape == (30232, 40))\n",
    "assert(len(condemnations[condemnations['InspectDate'] < '1986'])==0)\n",
    "assert(len(condemnations[condemnations['InspectDate'] >= '2015'])==0)"
   ]
  },
  {
   "cell_type": "markdown",
   "metadata": {
    "nbgrader": {
     "grade": false,
     "grade_id": "q2-intro",
     "locked": true,
     "schema_version": 1,
     "solution": false
    }
   },
   "source": [
    "## STEP 2: Pivot and Summarize\n",
    "\n",
    "In this step we want to pivot our data so that we have one row per year, a column for each value that appears in the `Status` column, and a count of how many condemnations occurred of each type in each year.  Put your summary pivot table into a variable called `by_year`.\n",
    "\n",
    "**Some helpful notes:**\n",
    "* For some reason, Pandas is just kind of stubborn about count being the aggregate function.  You may need to tell it to `np.ma.count` specifically.  I've imported Numpy as np for you."
   ]
  },
  {
   "cell_type": "code",
   "execution_count": 112,
   "metadata": {
    "nbgrader": {
     "grade": false,
     "grade_id": "q2-solution",
     "locked": false,
     "schema_version": 1,
     "solution": true
    }
   },
   "outputs": [],
   "source": [
    "import numpy as np"
   ]
  },
  {
   "cell_type": "code",
   "execution_count": 113,
   "metadata": {
    "nbgrader": {
     "grade": false,
     "grade_id": "q2-solution",
     "locked": false,
     "schema_version": 1,
     "solution": true
    }
   },
   "outputs": [
    {
     "data": {
      "text/plain": [
       "0    1986-07-10 00:00:00\n",
       "1    2009-07-23 00:00:00\n",
       "2    2003-08-06 00:00:00\n",
       "3    1996-06-17 00:00:00\n",
       "4    2006-12-20 00:00:00\n",
       "Name: InspectDate, dtype: object"
      ]
     },
     "execution_count": 113,
     "metadata": {},
     "output_type": "execute_result"
    }
   ],
   "source": [
    "condemnations['InspectDate'].head()"
   ]
  },
  {
   "cell_type": "code",
   "execution_count": 114,
   "metadata": {
    "nbgrader": {
     "grade": false,
     "grade_id": "q2-solution",
     "locked": false,
     "schema_version": 1,
     "solution": true
    }
   },
   "outputs": [
    {
     "data": {
      "text/plain": [
       "0        1986\n",
       "1        2009\n",
       "2        2003\n",
       "3        1996\n",
       "4        2006\n",
       "         ... \n",
       "32575    2013\n",
       "32576    2013\n",
       "32581    2014\n",
       "32582    2013\n",
       "32585    2013\n",
       "Name: InspectDate, Length: 30232, dtype: object"
      ]
     },
     "execution_count": 114,
     "metadata": {},
     "output_type": "execute_result"
    }
   ],
   "source": [
    "InspectYear = condemnations['InspectDate'].str[0:4]\n",
    "InspectYear"
   ]
  },
  {
   "cell_type": "code",
   "execution_count": 102,
   "metadata": {
    "nbgrader": {
     "grade": false,
     "grade_id": "q2-solution",
     "locked": false,
     "schema_version": 1,
     "solution": true
    }
   },
   "outputs": [],
   "source": [
    "by_year = condemnations.pivot_table(\n",
    "    values='AcctNum', \n",
    "    index='InspectDate', \n",
    "    columns='Status', \n",
    "    aggfunc=np.ma.count, \n",
    "    fill_value=0)"
   ]
  },
  {
   "cell_type": "code",
   "execution_count": 92,
   "metadata": {
    "nbgrader": {
     "grade": true,
     "grade_id": "q2-tests",
     "locked": true,
     "points": 6,
     "schema_version": 1,
     "solution": false
    }
   },
   "outputs": [
    {
     "ename": "AssertionError",
     "evalue": "",
     "output_type": "error",
     "traceback": [
      "\u001b[0;31m---------------------------------------------------------------------------\u001b[0m",
      "\u001b[0;31mAssertionError\u001b[0m                            Traceback (most recent call last)",
      "\u001b[0;32m<ipython-input-92-fa5ee7bb32bc>\u001b[0m in \u001b[0;36m<module>\u001b[0;34m\u001b[0m\n\u001b[0;32m----> 1\u001b[0;31m \u001b[0;32massert\u001b[0m\u001b[0;34m(\u001b[0m\u001b[0mby_year\u001b[0m\u001b[0;34m.\u001b[0m\u001b[0mshape\u001b[0m \u001b[0;34m==\u001b[0m \u001b[0;34m(\u001b[0m\u001b[0;36m29\u001b[0m\u001b[0;34m,\u001b[0m \u001b[0;36m4\u001b[0m\u001b[0;34m)\u001b[0m\u001b[0;34m)\u001b[0m\u001b[0;34m\u001b[0m\u001b[0;34m\u001b[0m\u001b[0m\n\u001b[0m\u001b[1;32m      2\u001b[0m \u001b[0;32massert\u001b[0m\u001b[0;34m(\u001b[0m\u001b[0mlist\u001b[0m\u001b[0;34m(\u001b[0m\u001b[0mby_year\u001b[0m\u001b[0;34m.\u001b[0m\u001b[0mcolumns\u001b[0m\u001b[0;34m)\u001b[0m \u001b[0;34m==\u001b[0m \u001b[0;34m[\u001b[0m\u001b[0;34m'B'\u001b[0m\u001b[0;34m,\u001b[0m \u001b[0;34m'L'\u001b[0m\u001b[0;34m,\u001b[0m \u001b[0;34m'R'\u001b[0m\u001b[0;34m,\u001b[0m \u001b[0;34m'W'\u001b[0m\u001b[0;34m]\u001b[0m\u001b[0;34m)\u001b[0m\u001b[0;34m\u001b[0m\u001b[0;34m\u001b[0m\u001b[0m\n\u001b[1;32m      3\u001b[0m \u001b[0;32massert\u001b[0m\u001b[0;34m(\u001b[0m\u001b[0mlist\u001b[0m\u001b[0;34m(\u001b[0m\u001b[0mby_year\u001b[0m\u001b[0;34m.\u001b[0m\u001b[0msum\u001b[0m\u001b[0;34m(\u001b[0m\u001b[0;34m)\u001b[0m\u001b[0;34m)\u001b[0m \u001b[0;34m==\u001b[0m \u001b[0;34m[\u001b[0m\u001b[0;36m10572\u001b[0m\u001b[0;34m,\u001b[0m \u001b[0;36m4966\u001b[0m\u001b[0;34m,\u001b[0m \u001b[0;36m98\u001b[0m\u001b[0;34m,\u001b[0m \u001b[0;36m9670\u001b[0m\u001b[0;34m]\u001b[0m\u001b[0;34m)\u001b[0m\u001b[0;34m\u001b[0m\u001b[0;34m\u001b[0m\u001b[0m\n",
      "\u001b[0;31mAssertionError\u001b[0m: "
     ]
    }
   ],
   "source": [
    "assert(by_year.shape == (29, 4))\n",
    "assert(list(by_year.columns) == ['B', 'L', 'R', 'W'])\n",
    "assert(list(by_year.sum()) == [10572, 4966, 98, 9670])"
   ]
  },
  {
   "cell_type": "markdown",
   "metadata": {
    "nbgrader": {
     "grade": false,
     "grade_id": "q3-intro",
     "locked": true,
     "schema_version": 1,
     "solution": false
    }
   },
   "source": [
    "## STEP 3: Plot and see what you see\n",
    "\n",
    "Use Pandas built-in plotting capabilities to visualize this information in way that you think makes sense.  It might be that plotting a simple multi-series line chart would give you some insights.  Show your plot in the cell below, then use the text cell below that to write a few sentences about what you see.\n"
   ]
  },
  {
   "cell_type": "code",
   "execution_count": 93,
   "metadata": {
    "nbgrader": {
     "grade": true,
     "grade_id": "q3-manual",
     "locked": false,
     "points": 5,
     "schema_version": 1,
     "solution": true
    }
   },
   "outputs": [
    {
     "data": {
      "text/plain": [
       "<matplotlib.axes._subplots.AxesSubplot at 0x7f96140e2470>"
      ]
     },
     "execution_count": 93,
     "metadata": {},
     "output_type": "execute_result"
    },
    {
     "data": {
      "image/png": "[encoded data removed]",
      "text/plain": [
       "<Figure size 432x288 with 1 Axes>"
      ]
     },
     "metadata": {
      "needs_background": "light"
     },
     "output_type": "display_data"
    }
   ],
   "source": [
    "%matplotlib inline\n",
    "by_year.plot()"
   ]
  },
  {
   "cell_type": "markdown",
   "metadata": {},
   "source": [
    "---"
   ]
  },
  {
   "cell_type": "markdown",
   "metadata": {},
   "source": [
    "# PART 2 - Video Conference Usage\n",
    "\n",
    "In this next part of the assignment, we'll be looking at how video conference usage has change for my company over the past couple of months.  This real data.  Please don't judge anyone based on the information here.  ;)\n",
    "\n",
    "For the assignment, I want you to compare (by person) the number of meetings hosted by each user for the last two weeks of February and the last two weeks of March.  This might be a little complicated to think through HOW to do that, so the steps below are one approach.\n",
    "\n",
    "1. Create a new column called startDate that contains just the day part of the startTime column in the data.  You can do that using datetime functions if you want, but you'll notice that the date in this file is a string formatted YYYY-MM-DD-HH:mm:ss, so it's probably easier just to pull out the first 10 characters of the string instead.  `meetings['startTime'].str[0:10]`\n",
    "2. Create another new column.  This one should contain a label like \"BEFORE\" for the week 2/17 - 2/28 and \"DURING\" for the week of 3/16 - 3/27.  A hand tip on this is that you can set values for some rows in a data frame using `meetings.loc[row_filter,'Column Name'] = 'Value'` if you've created a `row_filter` as we discussed in prior weeks.\n",
    "3. From here, using `pivot_table()` is one good way to summarize the information.\n",
    "\n",
    "**FINAL RESULT**\n",
    "\n",
    "For a final result, I'd like you to produce a data frame named **summary** that contains:\n",
    "* One ROW for each userName.  The userName can either be the row index or a column in the data frame.\n",
    "* One COLUMN for the \"BEFORE\" week and one COLUMN for the \"DURING\" week.  Name those columns 'Before' and 'During'.\n",
    "* One more calculated column that shows the percent increase from BEFORE to DURING.  Name that column 'pctChange'.\n"
   ]
  },
  {
   "cell_type": "code",
   "execution_count": 65,
   "metadata": {},
   "outputs": [],
   "source": [
    "import pandas as pd\n",
    "meetings = pd.read_csv('/data/meetings.csv', low_memory=False)"
   ]
  },
  {
   "cell_type": "code",
   "execution_count": 95,
   "metadata": {},
   "outputs": [
    {
     "data": {
      "text/html": [
       "<div>\n",
       "<style scoped>\n",
       "    .dataframe tbody tr th:only-of-type {\n",
       "        vertical-align: middle;\n",
       "    }\n",
       "\n",
       "    .dataframe tbody tr th {\n",
       "        vertical-align: top;\n",
       "    }\n",
       "\n",
       "    .dataframe thead th {\n",
       "        text-align: right;\n",
       "    }\n",
       "</style>\n",
       "<table border=\"1\" class=\"dataframe\">\n",
       "  <thead>\n",
       "    <tr style=\"text-align: right;\">\n",
       "      <th></th>\n",
       "      <th>meeting_uuid</th>\n",
       "      <th>meetingTitle</th>\n",
       "      <th>meetingId</th>\n",
       "      <th>userName</th>\n",
       "      <th>user_id</th>\n",
       "      <th>user_tags</th>\n",
       "      <th>endTime</th>\n",
       "      <th>startTime</th>\n",
       "      <th>email</th>\n",
       "      <th>participantSeconds</th>\n",
       "      <th>...</th>\n",
       "      <th>meetingDurationMinutes</th>\n",
       "      <th>popId</th>\n",
       "      <th>userType</th>\n",
       "      <th>billable</th>\n",
       "      <th>moderatorLess</th>\n",
       "      <th>start_time</th>\n",
       "      <th>total_highlights_created</th>\n",
       "      <th>smart_meeting</th>\n",
       "      <th>transcription_used</th>\n",
       "      <th>total_transcription_duration_minutes</th>\n",
       "    </tr>\n",
       "  </thead>\n",
       "  <tbody>\n",
       "    <tr>\n",
       "      <th>0</th>\n",
       "      <td>418897-3b9f0feb-f8f4-4ae7-9464-eb983c30af60</td>\n",
       "      <td>Review Payer Websites</td>\n",
       "      <td>681568231</td>\n",
       "      <td>chris.rogers.amitechsolutions</td>\n",
       "      <td>3180644</td>\n",
       "      <td>NaN</td>\n",
       "      <td>2020-03-31 22:21:35</td>\n",
       "      <td>2020-03-31 21:00:22</td>\n",
       "      <td>chris.rogers@amitechsolutions.com</td>\n",
       "      <td>19386</td>\n",
       "      <td>...</td>\n",
       "      <td>81.2167</td>\n",
       "      <td>26</td>\n",
       "      <td>ENTERPRISE_PAID</td>\n",
       "      <td>True</td>\n",
       "      <td>True</td>\n",
       "      <td>2020-03-31 21:00:22.0</td>\n",
       "      <td>NaN</td>\n",
       "      <td>NaN</td>\n",
       "      <td>NaN</td>\n",
       "      <td>NaN</td>\n",
       "    </tr>\n",
       "    <tr>\n",
       "      <th>1</th>\n",
       "      <td>418897-14587f14-faf0-4879-9756-fe335357b413</td>\n",
       "      <td>Drew's Meeting</td>\n",
       "      <td>258719784</td>\n",
       "      <td>Drew.Marco</td>\n",
       "      <td>2717893</td>\n",
       "      <td>NaN</td>\n",
       "      <td>2020-03-31 21:30:37</td>\n",
       "      <td>2020-03-31 20:58:41</td>\n",
       "      <td>Drew.Marco@AmitechSolutions.com</td>\n",
       "      <td>7242</td>\n",
       "      <td>...</td>\n",
       "      <td>31.9333</td>\n",
       "      <td>25</td>\n",
       "      <td>ENTERPRISE_PAID</td>\n",
       "      <td>True</td>\n",
       "      <td>True</td>\n",
       "      <td>2020-03-31 20:58:41.0</td>\n",
       "      <td>NaN</td>\n",
       "      <td>NaN</td>\n",
       "      <td>NaN</td>\n",
       "      <td>NaN</td>\n",
       "    </tr>\n",
       "    <tr>\n",
       "      <th>2</th>\n",
       "      <td>418897-aa82b3f0-e3df-456a-80d5-daef7902c232</td>\n",
       "      <td>St. Luke's Project Discussion</td>\n",
       "      <td>415828450</td>\n",
       "      <td>eric.keeney</td>\n",
       "      <td>2692908</td>\n",
       "      <td>NaN</td>\n",
       "      <td>2020-03-31 22:48:43</td>\n",
       "      <td>2020-03-31 20:57:51</td>\n",
       "      <td>eric.keeney@amitechsolutions.com</td>\n",
       "      <td>38469</td>\n",
       "      <td>...</td>\n",
       "      <td>110.8667</td>\n",
       "      <td>25</td>\n",
       "      <td>ENTERPRISE_PAID</td>\n",
       "      <td>True</td>\n",
       "      <td>True</td>\n",
       "      <td>2020-03-31 20:57:51.0</td>\n",
       "      <td>NaN</td>\n",
       "      <td>NaN</td>\n",
       "      <td>NaN</td>\n",
       "      <td>NaN</td>\n",
       "    </tr>\n",
       "    <tr>\n",
       "      <th>3</th>\n",
       "      <td>418867-f5fadea7-75f8-4860-9a1e-090805ff6346</td>\n",
       "      <td>Amit's Meeting</td>\n",
       "      <td>275007771</td>\n",
       "      <td>amit.bhagat</td>\n",
       "      <td>2756615</td>\n",
       "      <td>NaN</td>\n",
       "      <td>2020-03-31 21:02:28</td>\n",
       "      <td>2020-03-31 20:34:43</td>\n",
       "      <td>amit.bhagat@amitechsolutions.com</td>\n",
       "      <td>6394</td>\n",
       "      <td>...</td>\n",
       "      <td>27.7500</td>\n",
       "      <td>110</td>\n",
       "      <td>ENTERPRISE_PAID</td>\n",
       "      <td>True</td>\n",
       "      <td>True</td>\n",
       "      <td>2020-03-31 20:34:43.0</td>\n",
       "      <td>NaN</td>\n",
       "      <td>NaN</td>\n",
       "      <td>NaN</td>\n",
       "      <td>NaN</td>\n",
       "    </tr>\n",
       "    <tr>\n",
       "      <th>4</th>\n",
       "      <td>418894-3a911019-1a97-4058-8bd4-035245c73bda</td>\n",
       "      <td>Andrea's Meeting</td>\n",
       "      <td>791412043</td>\n",
       "      <td>andrea.bryant.amitechsolutions</td>\n",
       "      <td>2673353</td>\n",
       "      <td>NaN</td>\n",
       "      <td>2020-03-31 20:49:46</td>\n",
       "      <td>2020-03-31 20:30:02</td>\n",
       "      <td>hr-dept@amitechsolutions.com</td>\n",
       "      <td>3363</td>\n",
       "      <td>...</td>\n",
       "      <td>19.7333</td>\n",
       "      <td>25</td>\n",
       "      <td>ENTERPRISE_PAID</td>\n",
       "      <td>True</td>\n",
       "      <td>True</td>\n",
       "      <td>2020-03-31 20:30:02.0</td>\n",
       "      <td>NaN</td>\n",
       "      <td>NaN</td>\n",
       "      <td>NaN</td>\n",
       "      <td>NaN</td>\n",
       "    </tr>\n",
       "    <tr>\n",
       "      <th>...</th>\n",
       "      <td>...</td>\n",
       "      <td>...</td>\n",
       "      <td>...</td>\n",
       "      <td>...</td>\n",
       "      <td>...</td>\n",
       "      <td>...</td>\n",
       "      <td>...</td>\n",
       "      <td>...</td>\n",
       "      <td>...</td>\n",
       "      <td>...</td>\n",
       "      <td>...</td>\n",
       "      <td>...</td>\n",
       "      <td>...</td>\n",
       "      <td>...</td>\n",
       "      <td>...</td>\n",
       "      <td>...</td>\n",
       "      <td>...</td>\n",
       "      <td>...</td>\n",
       "      <td>...</td>\n",
       "      <td>...</td>\n",
       "      <td>...</td>\n",
       "    </tr>\n",
       "    <tr>\n",
       "      <th>1183</th>\n",
       "      <td>406048-e67581e6-a153-46c9-afe2-05e0b493b90a</td>\n",
       "      <td>Internal Delivery Status - RGA &amp; Mercy RPA Pro...</td>\n",
       "      <td>637573809</td>\n",
       "      <td>eric.keeney</td>\n",
       "      <td>2692908</td>\n",
       "      <td>NaN</td>\n",
       "      <td>2020-01-02 16:53:18</td>\n",
       "      <td>2020-01-02 15:28:08</td>\n",
       "      <td>eric.keeney@amitechsolutions.com</td>\n",
       "      <td>23694</td>\n",
       "      <td>...</td>\n",
       "      <td>85.1667</td>\n",
       "      <td>100</td>\n",
       "      <td>ENTERPRISE_PAID</td>\n",
       "      <td>True</td>\n",
       "      <td>True</td>\n",
       "      <td>2020-01-02 15:28:08.0</td>\n",
       "      <td>NaN</td>\n",
       "      <td>NaN</td>\n",
       "      <td>NaN</td>\n",
       "      <td>NaN</td>\n",
       "    </tr>\n",
       "    <tr>\n",
       "      <th>1184</th>\n",
       "      <td>406045-98ce1eb5-c0bd-4d0d-819e-76fd21572b0a</td>\n",
       "      <td>Jeff's Meeting</td>\n",
       "      <td>507568365</td>\n",
       "      <td>jeff.hatfield.amitechsolutions</td>\n",
       "      <td>2770676</td>\n",
       "      <td>NaN</td>\n",
       "      <td>2020-01-02 15:32:52</td>\n",
       "      <td>2020-01-02 15:01:32</td>\n",
       "      <td>jeff.hatfield@amitechsolutions.com</td>\n",
       "      <td>3668</td>\n",
       "      <td>...</td>\n",
       "      <td>31.3333</td>\n",
       "      <td>100</td>\n",
       "      <td>ENTERPRISE_PAID</td>\n",
       "      <td>True</td>\n",
       "      <td>True</td>\n",
       "      <td>2020-01-02 15:01:32.0</td>\n",
       "      <td>NaN</td>\n",
       "      <td>NaN</td>\n",
       "      <td>NaN</td>\n",
       "      <td>NaN</td>\n",
       "    </tr>\n",
       "    <tr>\n",
       "      <th>1185</th>\n",
       "      <td>406045-354a9944-f1e9-4717-b163-e170bf870aeb</td>\n",
       "      <td>Jennifer's Meeting</td>\n",
       "      <td>365572202</td>\n",
       "      <td>jennifer.patton.amitechs</td>\n",
       "      <td>2754605</td>\n",
       "      <td>NaN</td>\n",
       "      <td>2020-01-02 15:23:31</td>\n",
       "      <td>2020-01-02 14:56:32</td>\n",
       "      <td>jennifer.patton@amitechsolutions.com</td>\n",
       "      <td>5716</td>\n",
       "      <td>...</td>\n",
       "      <td>26.9833</td>\n",
       "      <td>100</td>\n",
       "      <td>ENTERPRISE_PAID</td>\n",
       "      <td>True</td>\n",
       "      <td>True</td>\n",
       "      <td>2020-01-02 14:56:32.0</td>\n",
       "      <td>NaN</td>\n",
       "      <td>NaN</td>\n",
       "      <td>NaN</td>\n",
       "      <td>NaN</td>\n",
       "    </tr>\n",
       "    <tr>\n",
       "      <th>1186</th>\n",
       "      <td>406041-b81ecc8a-e0bc-42bf-9c6d-40897d821317</td>\n",
       "      <td>Jeff's Meeting</td>\n",
       "      <td>507568365</td>\n",
       "      <td>jeff.hatfield.amitechsolutions</td>\n",
       "      <td>2770676</td>\n",
       "      <td>NaN</td>\n",
       "      <td>2020-01-02 14:22:44</td>\n",
       "      <td>2020-01-02 14:22:28</td>\n",
       "      <td>jeff.hatfield@amitechsolutions.com</td>\n",
       "      <td>6</td>\n",
       "      <td>...</td>\n",
       "      <td>0.2667</td>\n",
       "      <td>100</td>\n",
       "      <td>ENTERPRISE_PAID</td>\n",
       "      <td>False</td>\n",
       "      <td>True</td>\n",
       "      <td>2020-01-02 14:22:28.0</td>\n",
       "      <td>NaN</td>\n",
       "      <td>NaN</td>\n",
       "      <td>NaN</td>\n",
       "      <td>NaN</td>\n",
       "    </tr>\n",
       "    <tr>\n",
       "      <th>1187</th>\n",
       "      <td>406040-4860d515-b115-410e-a4e7-7e0b5ec337c6</td>\n",
       "      <td>Paul's Meeting</td>\n",
       "      <td>159330425</td>\n",
       "      <td>paul.smith.amitechsolutions</td>\n",
       "      <td>3010068</td>\n",
       "      <td>NaN</td>\n",
       "      <td>2020-01-02 14:29:55</td>\n",
       "      <td>2020-01-02 14:14:12</td>\n",
       "      <td>paul.smith@amitechsolutions.com</td>\n",
       "      <td>5090</td>\n",
       "      <td>...</td>\n",
       "      <td>15.7167</td>\n",
       "      <td>110</td>\n",
       "      <td>ENTERPRISE_PAID</td>\n",
       "      <td>True</td>\n",
       "      <td>True</td>\n",
       "      <td>2020-01-02 14:14:12.0</td>\n",
       "      <td>NaN</td>\n",
       "      <td>NaN</td>\n",
       "      <td>NaN</td>\n",
       "      <td>NaN</td>\n",
       "    </tr>\n",
       "  </tbody>\n",
       "</table>\n",
       "<p>1188 rows × 25 columns</p>\n",
       "</div>"
      ],
      "text/plain": [
       "                                     meeting_uuid  \\\n",
       "0     418897-3b9f0feb-f8f4-4ae7-9464-eb983c30af60   \n",
       "1     418897-14587f14-faf0-4879-9756-fe335357b413   \n",
       "2     418897-aa82b3f0-e3df-456a-80d5-daef7902c232   \n",
       "3     418867-f5fadea7-75f8-4860-9a1e-090805ff6346   \n",
       "4     418894-3a911019-1a97-4058-8bd4-035245c73bda   \n",
       "...                                           ...   \n",
       "1183  406048-e67581e6-a153-46c9-afe2-05e0b493b90a   \n",
       "1184  406045-98ce1eb5-c0bd-4d0d-819e-76fd21572b0a   \n",
       "1185  406045-354a9944-f1e9-4717-b163-e170bf870aeb   \n",
       "1186  406041-b81ecc8a-e0bc-42bf-9c6d-40897d821317   \n",
       "1187  406040-4860d515-b115-410e-a4e7-7e0b5ec337c6   \n",
       "\n",
       "                                           meetingTitle  meetingId  \\\n",
       "0                                 Review Payer Websites  681568231   \n",
       "1                                        Drew's Meeting  258719784   \n",
       "2                         St. Luke's Project Discussion  415828450   \n",
       "3                                        Amit's Meeting  275007771   \n",
       "4                                      Andrea's Meeting  791412043   \n",
       "...                                                 ...        ...   \n",
       "1183  Internal Delivery Status - RGA & Mercy RPA Pro...  637573809   \n",
       "1184                                     Jeff's Meeting  507568365   \n",
       "1185                                 Jennifer's Meeting  365572202   \n",
       "1186                                     Jeff's Meeting  507568365   \n",
       "1187                                     Paul's Meeting  159330425   \n",
       "\n",
       "                            userName  user_id  user_tags              endTime  \\\n",
       "0      chris.rogers.amitechsolutions  3180644        NaN  2020-03-31 22:21:35   \n",
       "1                         Drew.Marco  2717893        NaN  2020-03-31 21:30:37   \n",
       "2                        eric.keeney  2692908        NaN  2020-03-31 22:48:43   \n",
       "3                        amit.bhagat  2756615        NaN  2020-03-31 21:02:28   \n",
       "4     andrea.bryant.amitechsolutions  2673353        NaN  2020-03-31 20:49:46   \n",
       "...                              ...      ...        ...                  ...   \n",
       "1183                     eric.keeney  2692908        NaN  2020-01-02 16:53:18   \n",
       "1184  jeff.hatfield.amitechsolutions  2770676        NaN  2020-01-02 15:32:52   \n",
       "1185        jennifer.patton.amitechs  2754605        NaN  2020-01-02 15:23:31   \n",
       "1186  jeff.hatfield.amitechsolutions  2770676        NaN  2020-01-02 14:22:44   \n",
       "1187     paul.smith.amitechsolutions  3010068        NaN  2020-01-02 14:29:55   \n",
       "\n",
       "                startTime                                 email  \\\n",
       "0     2020-03-31 21:00:22     chris.rogers@amitechsolutions.com   \n",
       "1     2020-03-31 20:58:41       Drew.Marco@AmitechSolutions.com   \n",
       "2     2020-03-31 20:57:51      eric.keeney@amitechsolutions.com   \n",
       "3     2020-03-31 20:34:43      amit.bhagat@amitechsolutions.com   \n",
       "4     2020-03-31 20:30:02          hr-dept@amitechsolutions.com   \n",
       "...                   ...                                   ...   \n",
       "1183  2020-01-02 15:28:08      eric.keeney@amitechsolutions.com   \n",
       "1184  2020-01-02 15:01:32    jeff.hatfield@amitechsolutions.com   \n",
       "1185  2020-01-02 14:56:32  jennifer.patton@amitechsolutions.com   \n",
       "1186  2020-01-02 14:22:28    jeff.hatfield@amitechsolutions.com   \n",
       "1187  2020-01-02 14:14:12       paul.smith@amitechsolutions.com   \n",
       "\n",
       "      participantSeconds  ... meetingDurationMinutes popId         userType  \\\n",
       "0                  19386  ...                81.2167    26  ENTERPRISE_PAID   \n",
       "1                   7242  ...                31.9333    25  ENTERPRISE_PAID   \n",
       "2                  38469  ...               110.8667    25  ENTERPRISE_PAID   \n",
       "3                   6394  ...                27.7500   110  ENTERPRISE_PAID   \n",
       "4                   3363  ...                19.7333    25  ENTERPRISE_PAID   \n",
       "...                  ...  ...                    ...   ...              ...   \n",
       "1183               23694  ...                85.1667   100  ENTERPRISE_PAID   \n",
       "1184                3668  ...                31.3333   100  ENTERPRISE_PAID   \n",
       "1185                5716  ...                26.9833   100  ENTERPRISE_PAID   \n",
       "1186                   6  ...                 0.2667   100  ENTERPRISE_PAID   \n",
       "1187                5090  ...                15.7167   110  ENTERPRISE_PAID   \n",
       "\n",
       "      billable  moderatorLess             start_time  \\\n",
       "0         True           True  2020-03-31 21:00:22.0   \n",
       "1         True           True  2020-03-31 20:58:41.0   \n",
       "2         True           True  2020-03-31 20:57:51.0   \n",
       "3         True           True  2020-03-31 20:34:43.0   \n",
       "4         True           True  2020-03-31 20:30:02.0   \n",
       "...        ...            ...                    ...   \n",
       "1183      True           True  2020-01-02 15:28:08.0   \n",
       "1184      True           True  2020-01-02 15:01:32.0   \n",
       "1185      True           True  2020-01-02 14:56:32.0   \n",
       "1186     False           True  2020-01-02 14:22:28.0   \n",
       "1187      True           True  2020-01-02 14:14:12.0   \n",
       "\n",
       "      total_highlights_created smart_meeting  transcription_used  \\\n",
       "0                          NaN           NaN                 NaN   \n",
       "1                          NaN           NaN                 NaN   \n",
       "2                          NaN           NaN                 NaN   \n",
       "3                          NaN           NaN                 NaN   \n",
       "4                          NaN           NaN                 NaN   \n",
       "...                        ...           ...                 ...   \n",
       "1183                       NaN           NaN                 NaN   \n",
       "1184                       NaN           NaN                 NaN   \n",
       "1185                       NaN           NaN                 NaN   \n",
       "1186                       NaN           NaN                 NaN   \n",
       "1187                       NaN           NaN                 NaN   \n",
       "\n",
       "      total_transcription_duration_minutes  \n",
       "0                                      NaN  \n",
       "1                                      NaN  \n",
       "2                                      NaN  \n",
       "3                                      NaN  \n",
       "4                                      NaN  \n",
       "...                                    ...  \n",
       "1183                                   NaN  \n",
       "1184                                   NaN  \n",
       "1185                                   NaN  \n",
       "1186                                   NaN  \n",
       "1187                                   NaN  \n",
       "\n",
       "[1188 rows x 25 columns]"
      ]
     },
     "execution_count": 95,
     "metadata": {},
     "output_type": "execute_result"
    }
   ],
   "source": [
    "meetings"
   ]
  },
  {
   "cell_type": "code",
   "execution_count": 104,
   "metadata": {},
   "outputs": [
    {
     "data": {
      "text/plain": [
       "0       2020-03-31\n",
       "1       2020-03-31\n",
       "2       2020-03-31\n",
       "3       2020-03-31\n",
       "4       2020-03-31\n",
       "           ...    \n",
       "1183    2020-01-02\n",
       "1184    2020-01-02\n",
       "1185    2020-01-02\n",
       "1186    2020-01-02\n",
       "1187    2020-01-02\n",
       "Name: startTime, Length: 1188, dtype: object"
      ]
     },
     "execution_count": 104,
     "metadata": {},
     "output_type": "execute_result"
    }
   ],
   "source": [
    "startDate = meetings['startTime'].str[0:10]\n",
    "startDate"
   ]
  },
  {
   "cell_type": "code",
   "execution_count": 123,
   "metadata": {},
   "outputs": [],
   "source": [
    "Before_Corona = (meetings['startTime'] >= '2020-02-17') & (meetings['startTime'] <= '2020-02-28')\n",
    "After_Corona = (meetings['startTime'] >= '2020-03-16') & (meetings['startTime'] <= '2020-03-27')"
   ]
  },
  {
   "cell_type": "code",
   "execution_count": 126,
   "metadata": {},
   "outputs": [],
   "source": [
    "summary = meetings.pivot_table(\n",
    "    values='participantSeconds', \n",
    "    index='startTime', \n",
    "    columns='userName', \n",
    "    aggfunc=np.ma.count, \n",
    "    fill_value=0)"
   ]
  },
  {
   "cell_type": "markdown",
   "metadata": {},
   "source": [
    "---"
   ]
  },
  {
   "cell_type": "code",
   "execution_count": 127,
   "metadata": {},
   "outputs": [
    {
     "ename": "AssertionError",
     "evalue": "",
     "output_type": "error",
     "traceback": [
      "\u001b[0;31m---------------------------------------------------------------------------\u001b[0m",
      "\u001b[0;31mAssertionError\u001b[0m                            Traceback (most recent call last)",
      "\u001b[0;32m<ipython-input-127-76b6d48fc692>\u001b[0m in \u001b[0;36m<module>\u001b[0;34m\u001b[0m\n\u001b[0;32m----> 1\u001b[0;31m \u001b[0;32massert\u001b[0m\u001b[0;34m(\u001b[0m\u001b[0mlen\u001b[0m\u001b[0;34m(\u001b[0m\u001b[0msummary\u001b[0m\u001b[0;34m)\u001b[0m \u001b[0;34m==\u001b[0m \u001b[0;36m22\u001b[0m\u001b[0;34m)\u001b[0m\u001b[0;34m\u001b[0m\u001b[0;34m\u001b[0m\u001b[0m\n\u001b[0m",
      "\u001b[0;31mAssertionError\u001b[0m: "
     ]
    }
   ],
   "source": [
    "assert(len(summary) == 22)"
   ]
  },
  {
   "cell_type": "code",
   "execution_count": 128,
   "metadata": {},
   "outputs": [
    {
     "ename": "KeyError",
     "evalue": "'pctChange'",
     "output_type": "error",
     "traceback": [
      "\u001b[0;31m---------------------------------------------------------------------------\u001b[0m",
      "\u001b[0;31mKeyError\u001b[0m                                  Traceback (most recent call last)",
      "\u001b[0;32m/opt/tljh/user/lib/python3.6/site-packages/pandas/core/indexes/base.py\u001b[0m in \u001b[0;36mget_loc\u001b[0;34m(self, key, method, tolerance)\u001b[0m\n\u001b[1;32m   2896\u001b[0m             \u001b[0;32mtry\u001b[0m\u001b[0;34m:\u001b[0m\u001b[0;34m\u001b[0m\u001b[0;34m\u001b[0m\u001b[0m\n\u001b[0;32m-> 2897\u001b[0;31m                 \u001b[0;32mreturn\u001b[0m \u001b[0mself\u001b[0m\u001b[0;34m.\u001b[0m\u001b[0m_engine\u001b[0m\u001b[0;34m.\u001b[0m\u001b[0mget_loc\u001b[0m\u001b[0;34m(\u001b[0m\u001b[0mkey\u001b[0m\u001b[0;34m)\u001b[0m\u001b[0;34m\u001b[0m\u001b[0;34m\u001b[0m\u001b[0m\n\u001b[0m\u001b[1;32m   2898\u001b[0m             \u001b[0;32mexcept\u001b[0m \u001b[0mKeyError\u001b[0m\u001b[0;34m:\u001b[0m\u001b[0;34m\u001b[0m\u001b[0;34m\u001b[0m\u001b[0m\n",
      "\u001b[0;32mpandas/_libs/index.pyx\u001b[0m in \u001b[0;36mpandas._libs.index.IndexEngine.get_loc\u001b[0;34m()\u001b[0m\n",
      "\u001b[0;32mpandas/_libs/index.pyx\u001b[0m in \u001b[0;36mpandas._libs.index.IndexEngine.get_loc\u001b[0;34m()\u001b[0m\n",
      "\u001b[0;32mpandas/_libs/hashtable_class_helper.pxi\u001b[0m in \u001b[0;36mpandas._libs.hashtable.PyObjectHashTable.get_item\u001b[0;34m()\u001b[0m\n",
      "\u001b[0;32mpandas/_libs/hashtable_class_helper.pxi\u001b[0m in \u001b[0;36mpandas._libs.hashtable.PyObjectHashTable.get_item\u001b[0;34m()\u001b[0m\n",
      "\u001b[0;31mKeyError\u001b[0m: 'pctChange'",
      "\nDuring handling of the above exception, another exception occurred:\n",
      "\u001b[0;31mKeyError\u001b[0m                                  Traceback (most recent call last)",
      "\u001b[0;32m<ipython-input-128-27179ef80201>\u001b[0m in \u001b[0;36m<module>\u001b[0;34m\u001b[0m\n\u001b[0;32m----> 1\u001b[0;31m \u001b[0;32massert\u001b[0m\u001b[0;34m(\u001b[0m\u001b[0msummary\u001b[0m\u001b[0;34m[\u001b[0m\u001b[0;34m'pctChange'\u001b[0m\u001b[0;34m]\u001b[0m\u001b[0;34m.\u001b[0m\u001b[0mmean\u001b[0m\u001b[0;34m(\u001b[0m\u001b[0;34m)\u001b[0m\u001b[0;34m.\u001b[0m\u001b[0mround\u001b[0m\u001b[0;34m(\u001b[0m\u001b[0;36m2\u001b[0m\u001b[0;34m)\u001b[0m \u001b[0;34m==\u001b[0m \u001b[0;36m0.92\u001b[0m\u001b[0;34m)\u001b[0m\u001b[0;34m\u001b[0m\u001b[0;34m\u001b[0m\u001b[0m\n\u001b[0m",
      "\u001b[0;32m/opt/tljh/user/lib/python3.6/site-packages/pandas/core/frame.py\u001b[0m in \u001b[0;36m__getitem__\u001b[0;34m(self, key)\u001b[0m\n\u001b[1;32m   2993\u001b[0m             \u001b[0;32mif\u001b[0m \u001b[0mself\u001b[0m\u001b[0;34m.\u001b[0m\u001b[0mcolumns\u001b[0m\u001b[0;34m.\u001b[0m\u001b[0mnlevels\u001b[0m \u001b[0;34m>\u001b[0m \u001b[0;36m1\u001b[0m\u001b[0;34m:\u001b[0m\u001b[0;34m\u001b[0m\u001b[0;34m\u001b[0m\u001b[0m\n\u001b[1;32m   2994\u001b[0m                 \u001b[0;32mreturn\u001b[0m \u001b[0mself\u001b[0m\u001b[0;34m.\u001b[0m\u001b[0m_getitem_multilevel\u001b[0m\u001b[0;34m(\u001b[0m\u001b[0mkey\u001b[0m\u001b[0;34m)\u001b[0m\u001b[0;34m\u001b[0m\u001b[0;34m\u001b[0m\u001b[0m\n\u001b[0;32m-> 2995\u001b[0;31m             \u001b[0mindexer\u001b[0m \u001b[0;34m=\u001b[0m \u001b[0mself\u001b[0m\u001b[0;34m.\u001b[0m\u001b[0mcolumns\u001b[0m\u001b[0;34m.\u001b[0m\u001b[0mget_loc\u001b[0m\u001b[0;34m(\u001b[0m\u001b[0mkey\u001b[0m\u001b[0;34m)\u001b[0m\u001b[0;34m\u001b[0m\u001b[0;34m\u001b[0m\u001b[0m\n\u001b[0m\u001b[1;32m   2996\u001b[0m             \u001b[0;32mif\u001b[0m \u001b[0mis_integer\u001b[0m\u001b[0;34m(\u001b[0m\u001b[0mindexer\u001b[0m\u001b[0;34m)\u001b[0m\u001b[0;34m:\u001b[0m\u001b[0;34m\u001b[0m\u001b[0;34m\u001b[0m\u001b[0m\n\u001b[1;32m   2997\u001b[0m                 \u001b[0mindexer\u001b[0m \u001b[0;34m=\u001b[0m \u001b[0;34m[\u001b[0m\u001b[0mindexer\u001b[0m\u001b[0;34m]\u001b[0m\u001b[0;34m\u001b[0m\u001b[0;34m\u001b[0m\u001b[0m\n",
      "\u001b[0;32m/opt/tljh/user/lib/python3.6/site-packages/pandas/core/indexes/base.py\u001b[0m in \u001b[0;36mget_loc\u001b[0;34m(self, key, method, tolerance)\u001b[0m\n\u001b[1;32m   2897\u001b[0m                 \u001b[0;32mreturn\u001b[0m \u001b[0mself\u001b[0m\u001b[0;34m.\u001b[0m\u001b[0m_engine\u001b[0m\u001b[0;34m.\u001b[0m\u001b[0mget_loc\u001b[0m\u001b[0;34m(\u001b[0m\u001b[0mkey\u001b[0m\u001b[0;34m)\u001b[0m\u001b[0;34m\u001b[0m\u001b[0;34m\u001b[0m\u001b[0m\n\u001b[1;32m   2898\u001b[0m             \u001b[0;32mexcept\u001b[0m \u001b[0mKeyError\u001b[0m\u001b[0;34m:\u001b[0m\u001b[0;34m\u001b[0m\u001b[0;34m\u001b[0m\u001b[0m\n\u001b[0;32m-> 2899\u001b[0;31m                 \u001b[0;32mreturn\u001b[0m \u001b[0mself\u001b[0m\u001b[0;34m.\u001b[0m\u001b[0m_engine\u001b[0m\u001b[0;34m.\u001b[0m\u001b[0mget_loc\u001b[0m\u001b[0;34m(\u001b[0m\u001b[0mself\u001b[0m\u001b[0;34m.\u001b[0m\u001b[0m_maybe_cast_indexer\u001b[0m\u001b[0;34m(\u001b[0m\u001b[0mkey\u001b[0m\u001b[0;34m)\u001b[0m\u001b[0;34m)\u001b[0m\u001b[0;34m\u001b[0m\u001b[0;34m\u001b[0m\u001b[0m\n\u001b[0m\u001b[1;32m   2900\u001b[0m         \u001b[0mindexer\u001b[0m \u001b[0;34m=\u001b[0m \u001b[0mself\u001b[0m\u001b[0;34m.\u001b[0m\u001b[0mget_indexer\u001b[0m\u001b[0;34m(\u001b[0m\u001b[0;34m[\u001b[0m\u001b[0mkey\u001b[0m\u001b[0;34m]\u001b[0m\u001b[0;34m,\u001b[0m \u001b[0mmethod\u001b[0m\u001b[0;34m=\u001b[0m\u001b[0mmethod\u001b[0m\u001b[0;34m,\u001b[0m \u001b[0mtolerance\u001b[0m\u001b[0;34m=\u001b[0m\u001b[0mtolerance\u001b[0m\u001b[0;34m)\u001b[0m\u001b[0;34m\u001b[0m\u001b[0;34m\u001b[0m\u001b[0m\n\u001b[1;32m   2901\u001b[0m         \u001b[0;32mif\u001b[0m \u001b[0mindexer\u001b[0m\u001b[0;34m.\u001b[0m\u001b[0mndim\u001b[0m \u001b[0;34m>\u001b[0m \u001b[0;36m1\u001b[0m \u001b[0;32mor\u001b[0m \u001b[0mindexer\u001b[0m\u001b[0;34m.\u001b[0m\u001b[0msize\u001b[0m \u001b[0;34m>\u001b[0m \u001b[0;36m1\u001b[0m\u001b[0;34m:\u001b[0m\u001b[0;34m\u001b[0m\u001b[0;34m\u001b[0m\u001b[0m\n",
      "\u001b[0;32mpandas/_libs/index.pyx\u001b[0m in \u001b[0;36mpandas._libs.index.IndexEngine.get_loc\u001b[0;34m()\u001b[0m\n",
      "\u001b[0;32mpandas/_libs/index.pyx\u001b[0m in \u001b[0;36mpandas._libs.index.IndexEngine.get_loc\u001b[0;34m()\u001b[0m\n",
      "\u001b[0;32mpandas/_libs/hashtable_class_helper.pxi\u001b[0m in \u001b[0;36mpandas._libs.hashtable.PyObjectHashTable.get_item\u001b[0;34m()\u001b[0m\n",
      "\u001b[0;32mpandas/_libs/hashtable_class_helper.pxi\u001b[0m in \u001b[0;36mpandas._libs.hashtable.PyObjectHashTable.get_item\u001b[0;34m()\u001b[0m\n",
      "\u001b[0;31mKeyError\u001b[0m: 'pctChange'"
     ]
    }
   ],
   "source": [
    "assert(summary['pctChange'].mean().round(2) == 0.92)"
   ]
  },
  {
   "cell_type": "code",
   "execution_count": null,
   "metadata": {},
   "outputs": [],
   "source": []
  }
 ],
 "metadata": {
  "celltoolbar": "Create Assignment",
  "kernelspec": {
   "display_name": "Python 3",
   "language": "python",
   "name": "python3"
  },
  "language_info": {
   "codemirror_mode": {
    "name": "ipython",
    "version": 3
   },
   "file_extension": ".py",
   "mimetype": "text/x-python",
   "name": "python",
   "nbconvert_exporter": "python",
   "pygments_lexer": "ipython3",
   "version": "3.6.7"
  }
 },
 "nbformat": 4,
 "nbformat_minor": 2
}
